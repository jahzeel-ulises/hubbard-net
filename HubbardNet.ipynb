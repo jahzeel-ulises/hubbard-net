{
 "cells": [
  {
   "cell_type": "markdown",
   "id": "e8704274",
   "metadata": {},
   "source": [
    "## Hubbarnet use"
   ]
  },
  {
   "cell_type": "code",
   "execution_count": null,
   "id": "78cd9f23",
   "metadata": {},
   "outputs": [],
   "source": [
    "import torch"
   ]
  },
  {
   "cell_type": "code",
   "execution_count": null,
   "id": "3ab5cc5f",
   "metadata": {},
   "outputs": [],
   "source": [
    "def generate_fock_states(L, N):\n",
    "    \"\"\"\n",
    "    Generates all Fock´s states for N particles and L sites.\n",
    "    \"\"\"\n",
    "    def gen(current, left, sites_left):\n",
    "        if sites_left == 1:\n",
    "            yield current + [left]\n",
    "        else:\n",
    "            for i in range(left + 1):\n",
    "                yield from gen(current + [i], left - i, sites_left - 1)\n",
    "    \n",
    "    return list(gen([], N, L))"
   ]
  },
  {
   "cell_type": "code",
   "execution_count": null,
   "id": "d2b4df90",
   "metadata": {},
   "outputs": [],
   "source": [
    "L = 6 # sitios\n",
    "N = 5  # partículas\n",
    "\n",
    "fock_basis = generate_fock_states(L, N)\n",
    "\n",
    "focks_states = []\n",
    "\n",
    "for state in fock_basis:\n",
    "    focks_states.append(state)\n",
    "\n",
    "torch_states = torch.tensor(focks_states,dtype=torch.float32)"
   ]
  },
  {
   "cell_type": "code",
   "execution_count": null,
   "id": "e58a8a05",
   "metadata": {},
   "outputs": [],
   "source": [
    "from quspin.operators import hamiltonian\n",
    "from quspin.basis import boson_basis_1d\n",
    "\n",
    "def exact(U):\n",
    "    # Parámetros del modelo\n",
    "    L = 6       # número de sitios\n",
    "    Nbosons = 5 # número total de bosones\n",
    "    t = 1.0     # hopping\n",
    "            # interacción en el sitio\n",
    "\n",
    "    # Base de bosones\n",
    "    basis = boson_basis_1d(L, Nb=Nbosons)\n",
    "\n",
    "    # Término de hopping (b†_i b_j + h.c.)\n",
    "    hop_list = [[-t, i, (i+1)%L] for i in range(L)]\n",
    "    hop_ham = [[\"+-\", hop_list], [\"-+\", hop_list]]\n",
    "\n",
    "    n_list = [[-0.5*U, i] for i in range(L)]        # n_i\n",
    "    nn_list = [[0.5*U, i, i] for i in range(L)]   # n_i^2\n",
    "\n",
    "    # Término de interacción en el sitio: U n_i(n_i - 1)\n",
    "    int_ham = [[\"n\", n_list], [\"nn\", nn_list]]\n",
    "\n",
    "    # Construir el Hamiltoniano total\n",
    "    static = hop_ham + int_ham\n",
    "    H = hamiltonian(static, [], basis=basis, dtype=np.float64)\n",
    "\n",
    "    # Diagonalización\n",
    "    E, V = H.eigh()\n",
    "    return min(E)"
   ]
  },
  {
   "cell_type": "code",
   "execution_count": null,
   "id": "e03ecb0a",
   "metadata": {},
   "outputs": [],
   "source": [
    "from hubbarnet import BoseHubbardNeuralNetwork\n",
    "from hubbarnet import BoseHubbardModel\n",
    "\n",
    "network = []\n",
    "exact_vals = []\n",
    "\n",
    "for i in [2,4,6,8]:\n",
    "    nn = BoseHubbardNeuralNetwork(num_sites=6,num_hidden=20)\n",
    "    model = BoseHubbardModel(J=1,U=i,V=0,num_sites=6,num_particles=5,fock_states=torch_states,nn=nn)\n",
    "    model.fit(100)\n",
    "    \n",
    "    network.append(model.groud_state_energy())\n",
    "    exact_vals.append(exact(i))"
   ]
  },
  {
   "cell_type": "code",
   "execution_count": null,
   "id": "0899385c",
   "metadata": {},
   "outputs": [],
   "source": [
    "from matplotlib import pyplot as plt\n",
    "\n",
    "plt.scatter([2,4,6,8],exact_vals,label=\"Exact diagonalization\")\n",
    "plt.scatter([2,4,6,8],torch.stack(network).detach().numpy(),label=\"Network\",marker=\"s\",facecolors='none',edgecolors='red')\n",
    "\n",
    "plt.legend()\n",
    "plt.title(\"Diagonalizacion exacta vs Red Neuronal\")\n",
    "plt.xlabel(\"U\")\n",
    "plt.ylabel(\"Energia base\")\n",
    "plt.grid(True)\n",
    "plt.show()"
   ]
  }
 ],
 "metadata": {
  "kernelspec": {
   "display_name": "Python 3",
   "language": "python",
   "name": "python3"
  },
  "language_info": {
   "name": "python",
   "version": "3.11.5"
  }
 },
 "nbformat": 4,
 "nbformat_minor": 5
}
